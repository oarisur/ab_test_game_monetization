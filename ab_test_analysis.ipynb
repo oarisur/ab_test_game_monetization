{
 "cells": [
  {
   "cell_type": "markdown",
   "id": "62dff814",
   "metadata": {},
   "source": [
    "**Project Overview**\n",
    "\n",
    "This notebook simulates player behavior in a blockchain-integrated game to analyze the impact of a new game feature using both frequentist and Bayesian A/B testing methods. It incorporates in-game economy elements (like XP, stunts, and crashes), decentralized features (token spend and NFT purchases), and provides actionable insights for stakeholders."
   ]
  },
  {
   "cell_type": "markdown",
   "id": "f3529466",
   "metadata": {},
   "source": [
    "**Key Metrics Defined**\n",
    "\n",
    "- ARPU (Average Revenue Per User): Total revenue divided by number of users in the group. Useful for measuring monetization effectiveness.\n",
    "* NFT Purchase Rate: Share of users who made at least one NFT purchase. Indicates adoption of blockchain features.\n",
    "- XP (Experience Points): Proxy for player progression and engagement. Higher XP may correlate with long-term retention.\n",
    "* Stunts and Crashes: Gameplay event counts. Can indicate how engaging or challenging the game mechanics are.\n",
    "- Token Spent: Amount of in-game currency used (including blockchain tokens). Reflects in-game economic activity."
   ]
  },
  {
   "cell_type": "markdown",
   "id": "4f63968a",
   "metadata": {},
   "source": [
    "**1. Imports**"
   ]
  },
  {
   "cell_type": "code",
   "execution_count": null,
   "id": "817af835",
   "metadata": {},
   "outputs": [],
   "source": [
    "import numpy as np\n",
    "import pandas as pd\n",
    "import matplotlib.pyplot as plt\n",
    "import seaborn as sns\n",
    "import warnings\n",
    "warnings.filterwarnings(\"ignore\")\n",
    "from scipy import stats"
   ]
  },
  {
   "cell_type": "markdown",
   "id": "dff5a0e6",
   "metadata": {},
   "source": [
    "**2. Simulate Player Data (Control vs Variant)**"
   ]
  },
  {
   "cell_type": "code",
   "execution_count": null,
   "id": "3c95ba6f",
   "metadata": {},
   "outputs": [],
   "source": [
    "np.random.seed(42)\n",
    "n_users = 1000\n",
    "group = np.random.choice(['A', 'B'], size=n_users, p=[0.5, 0.5])"
   ]
  },
  {
   "cell_type": "markdown",
   "id": "2c6cf5c0",
   "metadata": {},
   "source": [
    "***2.1 Simulate revenue*** \n",
    "* Gamma distribution is used to simulate right-skewed revenue data typical in freemium games."
   ]
  },
  {
   "cell_type": "code",
   "execution_count": null,
   "id": "c98d8ef1",
   "metadata": {},
   "outputs": [],
   "source": [
    "revenue_A = np.random.gamma(shape=2.0, scale=0.7, size=(group == 'A').sum())\n",
    "revenue_B = np.random.gamma(shape=2.3, scale=0.9, size=(group == 'B').sum())"
   ]
  },
  {
   "cell_type": "markdown",
   "id": "187141eb",
   "metadata": {},
   "source": [
    "***2.2 Simulate gameplay events (e.g., crashes and stunts)***"
   ]
  },
  {
   "cell_type": "code",
   "execution_count": null,
   "id": "c692c40d",
   "metadata": {},
   "outputs": [],
   "source": [
    "crashes_A = np.random.poisson(3, size=(group == 'A').sum())\n",
    "stunts_A = np.random.poisson(5, size=(group == 'A').sum())\n",
    "crashes_B = np.random.poisson(4, size=(group == 'B').sum())\n",
    "stunts_B = np.random.poisson(7, size=(group == 'B').sum())"
   ]
  },
  {
   "cell_type": "markdown",
   "id": "4b1eb869",
   "metadata": {},
   "source": [
    "***2.3 Simulate blockchain metrics: token usage and NFT purchases***"
   ]
  },
  {
   "cell_type": "code",
   "execution_count": null,
   "id": "5e0693ae",
   "metadata": {},
   "outputs": [],
   "source": [
    "tokens_A = np.random.exponential(scale=1.5, size=(group == 'A').sum())\n",
    "tokens_B = np.random.exponential(scale=2.0, size=(group == 'B').sum())\n",
    "nft_purchases_A = np.random.binomial(1, 0.05, size=(group == 'A').sum())\n",
    "nft_purchases_B = np.random.binomial(1, 0.08, size=(group == 'B').sum())\n"
   ]
  },
  {
   "cell_type": "markdown",
   "id": "8b542c31",
   "metadata": {},
   "source": [
    "***2.4 Simulate player level progression and XP over time***"
   ]
  },
  {
   "cell_type": "code",
   "execution_count": null,
   "id": "7404544f",
   "metadata": {},
   "outputs": [],
   "source": [
    "days_played_A = np.random.randint(1, 30, size=(group == 'A').sum())\n",
    "days_played_B = np.random.randint(1, 30, size=(group == 'B').sum())\n",
    "xp_A = days_played_A * np.random.normal(50, 10, size=(group == 'A').sum())\n",
    "xp_B = days_played_B * np.random.normal(55, 12, size=(group == 'B').sum())\n"
   ]
  },
  {
   "cell_type": "markdown",
   "id": "f125cda8",
   "metadata": {},
   "source": [
    "***2.5 Build combined dataframe***\n",
    "* Merge all features into a single player-level dataset."
   ]
  },
  {
   "cell_type": "code",
   "execution_count": null,
   "id": "a9528105",
   "metadata": {},
   "outputs": [],
   "source": [
    "data = pd.DataFrame({\n",
    "    'user_id': np.arange(1, n_users + 1),\n",
    "    'group': group,\n",
    "    'revenue': np.zeros(n_users),\n",
    "    'crashes': np.zeros(n_users),\n",
    "    'stunts': np.zeros(n_users),\n",
    "    'tokens_spent': np.zeros(n_users),\n",
    "    'nft_purchased': np.zeros(n_users),\n",
    "    'xp': np.zeros(n_users),\n",
    "    'days_played': np.zeros(n_users)})"
   ]
  },
  {
   "cell_type": "markdown",
   "id": "3a751d93",
   "metadata": {},
   "source": [
    "* Assign values based on group."
   ]
  },
  {
   "cell_type": "code",
   "execution_count": null,
   "id": "c798d12c",
   "metadata": {},
   "outputs": [],
   "source": [
    "idx_A = data['group'] == 'A'\n",
    "idx_B = data['group'] == 'B'\n",
    "data.loc[idx_A, 'revenue'] = revenue_A\n",
    "data.loc[idx_B, 'revenue'] = revenue_B\n",
    "data.loc[idx_A, 'crashes'] = crashes_A\n",
    "data.loc[idx_B, 'crashes'] = crashes_B\n",
    "data.loc[idx_A, 'stunts'] = stunts_A\n",
    "data.loc[idx_B, 'stunts'] = stunts_B\n",
    "data.loc[idx_A, 'tokens_spent'] = tokens_A\n",
    "data.loc[idx_B, 'tokens_spent'] = tokens_B\n",
    "data.loc[idx_A, 'nft_purchased'] = nft_purchases_A\n",
    "data.loc[idx_B, 'nft_purchased'] = nft_purchases_B\n",
    "data.loc[idx_A, 'xp'] = xp_A\n",
    "data.loc[idx_B, 'xp'] = xp_B\n",
    "data.loc[idx_A, 'days_played'] = days_played_A\n",
    "data.loc[idx_B, 'days_played'] = days_played_B"
   ]
  },
  {
   "cell_type": "markdown",
   "id": "a0f63d3c",
   "metadata": {},
   "source": [
    "* Save generated data"
   ]
  },
  {
   "cell_type": "code",
   "execution_count": null,
   "id": "298d73eb",
   "metadata": {},
   "outputs": [],
   "source": [
    "data.to_csv(\"data/simulated_player_data.csv\", index=False)"
   ]
  },
  {
   "cell_type": "markdown",
   "id": "c388d446",
   "metadata": {},
   "source": [
    "**3. Exploratory Data Analysis**"
   ]
  },
  {
   "cell_type": "code",
   "execution_count": null,
   "id": "80c29b5f",
   "metadata": {},
   "outputs": [],
   "source": [
    "print(data.groupby('group')[['revenue', 'crashes', 'stunts', 'tokens_spent', 'nft_purchased', 'xp']].agg(['mean', 'std', 'median', 'count']))\n"
   ]
  },
  {
   "cell_type": "markdown",
   "id": "6ff2ee06",
   "metadata": {},
   "source": [
    "**4. Visualizations**"
   ]
  },
  {
   "cell_type": "markdown",
   "id": "97ef61c2",
   "metadata": {},
   "source": [
    "***4.1 Revenue distribution***"
   ]
  },
  {
   "cell_type": "code",
   "execution_count": null,
   "id": "291bd68f",
   "metadata": {},
   "outputs": [],
   "source": [
    "plt.figure(figsize=(12, 5))\n",
    "sns.boxplot(data=data, x='group', y='revenue', palette='Set2')\n",
    "plt.title(\"Revenue Distribution by Group\")\n",
    "plt.show()"
   ]
  },
  {
   "cell_type": "markdown",
   "id": "eb09590c",
   "metadata": {},
   "source": [
    "***4.2 Revenue density***"
   ]
  },
  {
   "cell_type": "code",
   "execution_count": null,
   "id": "ff6d9869",
   "metadata": {},
   "outputs": [],
   "source": [
    "plt.figure(figsize=(12, 5))\n",
    "sns.kdeplot(data[data.group == 'A']['revenue'], label='Group A', fill=True)\n",
    "sns.kdeplot(data[data.group == 'B']['revenue'], label='Group B', fill=True)\n",
    "plt.title(\"Revenue KDE Plot\")\n",
    "plt.legend()\n",
    "plt.show()"
   ]
  },
  {
   "cell_type": "markdown",
   "id": "fc4a2b2b",
   "metadata": {},
   "source": [
    "***4.3 Token usage***"
   ]
  },
  {
   "cell_type": "code",
   "execution_count": null,
   "id": "1aae71c2",
   "metadata": {},
   "outputs": [],
   "source": [
    "plt.figure(figsize=(12, 5))\n",
    "sns.kdeplot(data[data.group == 'A']['tokens_spent'], label='Tokens A', fill=True)\n",
    "sns.kdeplot(data[data.group == 'B']['tokens_spent'], label='Tokens B', fill=True)\n",
    "plt.title(\"Token Spending Distribution\")\n",
    "plt.legend()\n",
    "plt.show()"
   ]
  },
  {
   "cell_type": "markdown",
   "id": "fa0e6534",
   "metadata": {},
   "source": [
    "***4.4 NFT purchase rate***"
   ]
  },
  {
   "cell_type": "code",
   "execution_count": null,
   "id": "67432bbc",
   "metadata": {},
   "outputs": [],
   "source": [
    "nft_purchase_rate = data.groupby('group')['nft_purchased'].mean() *100\n",
    "plt.figure(figsize=(8, 6))\n",
    "sns.barplot(x=nft_purchase_rate.index, y=nft_purchase_rate.values, palette='Set2')\n",
    "plt.title(\"NFT Purchase Rate by Group\")\n",
    "plt.ylabel(\"Purchase Rate (%)\")\n",
    "plt.xlabel(\"Group\")\n",
    "plt.ylim(0, 100)\n",
    "plt.show()\n"
   ]
  },
  {
   "cell_type": "markdown",
   "id": "feaa3242",
   "metadata": {},
   "source": [
    "***4.5 XP/Progression analysis***"
   ]
  },
  {
   "cell_type": "code",
   "execution_count": null,
   "id": "6c5215ae",
   "metadata": {},
   "outputs": [],
   "source": [
    "plt.figure(figsize=(12, 5))\n",
    "sns.histplot(data, x='xp', hue='group', kde=True, element='step')\n",
    "plt.title(\"XP Distribution by Group\")\n",
    "plt.show()"
   ]
  },
  {
   "cell_type": "markdown",
   "id": "ea0802a4",
   "metadata": {},
   "source": [
    "***4.6 Event impact analysis***"
   ]
  },
  {
   "cell_type": "code",
   "execution_count": null,
   "id": "ed6a4fc2",
   "metadata": {},
   "outputs": [],
   "source": [
    "plt.figure(figsize=(12, 5))\n",
    "sns.scatterplot(data=data, x='crashes', y='revenue', hue='group')\n",
    "plt.title(\"Crash Count vs Revenue\")\n",
    "plt.show()\n",
    "\n",
    "plt.figure(figsize=(12, 5))\n",
    "sns.scatterplot(data=data, x='stunts', y='revenue', hue='group')\n",
    "plt.title(\"Stunts vs Revenue\")\n",
    "plt.show()"
   ]
  },
  {
   "cell_type": "markdown",
   "id": "2b09fc7d",
   "metadata": {},
   "source": [
    "**Validity of A/B Split and Causal Inference**\n",
    "* We assume the A/B group assignment is randomized and independent of player behavior. This allows us to attribute observed differences in outcomes (e.g., revenue, XP, NFT engagement) to the new feature, rather than to underlying player traits.\n",
    "- To support this assumption, we checked that key baseline variables (e.g., days played, XP) are similarly distributed across groups. In a production setting, we would also validate no bias using pre-experiment checks or covariate balancing methods (e.g., matching, stratification).\n",
    "* Potential confounders such as player tenure or spending tier should be monitored in future tests and segmented as needed."
   ]
  },
  {
   "cell_type": "markdown",
   "id": "0b0a7831",
   "metadata": {},
   "source": [
    "**5. Frequentist A/B Test (Welch's t-test)**\n",
    "* Tests if Group B's average revenue is significantly different from Group A."
   ]
  },
  {
   "cell_type": "code",
   "execution_count": null,
   "id": "e84a616b",
   "metadata": {},
   "outputs": [],
   "source": [
    "t_stat, p_val = stats.ttest_ind(data[data.group == 'B']['revenue'], data[data.group == 'A']['revenue'], equal_var=False)\n",
    "print(f\"t-stat: {t_stat:.4f}, p-value: {p_val:.6f}\")"
   ]
  },
  {
   "cell_type": "markdown",
   "id": "82d9ca30",
   "metadata": {},
   "source": [
    "**Statistical Assumptions**\n",
    "* The t-test used above assumes the sampling distribution of the mean is approximately normal. Although revenue is skewed, the sample size is large enough for the Central Limit Theorem to apply.\n",
    "- Bayesian estimation does not require this assumption and provides an intuitive probability-based result (e.g., how likely is Group B > Group A). This makes it useful as a complementary method, especially in high-stakes product decisions."
   ]
  },
  {
   "cell_type": "markdown",
   "id": "356f7a6f",
   "metadata": {},
   "source": [
    "**6. Bayesian Estimation**"
   ]
  },
  {
   "cell_type": "markdown",
   "id": "d6a2c076",
   "metadata": {},
   "source": [
    "***6.1 Simulate posterior distributions of mean revenue for both groups using Monte Carlo sampling.***"
   ]
  },
  {
   "cell_type": "code",
   "execution_count": null,
   "id": "a9846d05",
   "metadata": {},
   "outputs": [],
   "source": [
    "n_samples = 100000\n",
    "rev_A = data[data.group == 'A']['revenue']\n",
    "rev_B = data[data.group == 'B']['revenue']\n",
    "posterior_A = np.random.normal(rev_A.mean(), rev_A.std() / np.sqrt(len(rev_A)), n_samples)\n",
    "posterior_B = np.random.normal(rev_B.mean(), rev_B.std() / np.sqrt(len(rev_B)), n_samples)"
   ]
  },
  {
   "cell_type": "markdown",
   "id": "a41db195",
   "metadata": {},
   "source": [
    "***6.2 Estimate probability that B is better***"
   ]
  },
  {
   "cell_type": "code",
   "execution_count": null,
   "id": "1d2e5732",
   "metadata": {},
   "outputs": [],
   "source": [
    "prob_B_superior = (posterior_B > posterior_A).mean()\n",
    "print(f\"Probability that Group B > Group A: {prob_B_superior:.3f}\")"
   ]
  },
  {
   "cell_type": "markdown",
   "id": "15434ccc",
   "metadata": {},
   "source": [
    "***6.3 Posterior plot***"
   ]
  },
  {
   "cell_type": "code",
   "execution_count": null,
   "id": "5fed82ca",
   "metadata": {},
   "outputs": [],
   "source": [
    "plt.figure(figsize=(10, 5))\n",
    "plt.hist(posterior_A, bins=100, alpha=0.5, label='Posterior A')\n",
    "plt.hist(posterior_B, bins=100, alpha=0.5, label='Posterior B')\n",
    "plt.axvline(np.mean(posterior_A), color='blue', linestyle='--')\n",
    "plt.axvline(np.mean(posterior_B), color='orange', linestyle='--')\n",
    "plt.title(\"Posterior Distributions of Mean Revenue\")\n",
    "plt.xlabel(\"Mean Revenue\")\n",
    "plt.ylabel(\"Frequency\")\n",
    "plt.legend()\n",
    "plt.show()"
   ]
  },
  {
   "cell_type": "markdown",
   "id": "7f236d7f",
   "metadata": {},
   "source": [
    "**7. Summary & Actionable Insight**"
   ]
  },
  {
   "cell_type": "markdown",
   "id": "73f21b97",
   "metadata": {},
   "source": [
    "***7.1 Calculate ARPU lift***"
   ]
  },
  {
   "cell_type": "code",
   "execution_count": null,
   "id": "04c95a49",
   "metadata": {},
   "outputs": [],
   "source": [
    "lift = (rev_B.mean() - rev_A.mean()) / rev_A.mean()\n",
    "print(f\"Lift in ARPU from Group A to B: {lift:.2%}\")\n",
    "if p_val < 0.05:\n",
    "    print(\"\\n- Recommend rollout of Group B layout (statistically significant improvement).\")\n",
    "else:\n",
    "    print(\"\\n- No significant difference found. Keep testing or revert.\")"
   ]
  },
  {
   "cell_type": "markdown",
   "id": "e4112bc0",
   "metadata": {},
   "source": [
    "***7.2 Blockchain engagement insight***"
   ]
  },
  {
   "cell_type": "code",
   "execution_count": null,
   "id": "7b57dea5",
   "metadata": {},
   "outputs": [],
   "source": [
    "if nft_purchase_rate['B'] > nft_purchase_rate['A']:\n",
    "    print(\"\\n- Players in Group B show higher NFT purchase rate — may consider expanding Web3 features.\")\n",
    "else:\n",
    "    print(\"\\n- No improvement in NFT engagement — investigate UX or education gaps for blockchain features.\")"
   ]
  }
 ],
 "metadata": {
  "kernelspec": {
   "display_name": ".venv",
   "language": "python",
   "name": "python3"
  },
  "language_info": {
   "codemirror_mode": {
    "name": "ipython",
    "version": 3
   },
   "file_extension": ".py",
   "mimetype": "text/x-python",
   "name": "python",
   "nbconvert_exporter": "python",
   "pygments_lexer": "ipython3",
   "version": "3.13.3"
  }
 },
 "nbformat": 4,
 "nbformat_minor": 5
}
